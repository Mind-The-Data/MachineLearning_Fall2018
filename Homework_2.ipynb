{
 "cells": [
  {
   "cell_type": "markdown",
   "metadata": {},
   "source": [
    "# Homework 2 (Due Sep. 27) \n",
    "##### Brian Stampe        790 586 017\n",
    "Problems marked with a (\\*) are only required for graduate students.  Undergrads may undertake them for extra credit worth half the problems point value, with no penalties incurred for an incorrect answer."
   ]
  },
  {
   "cell_type": "markdown",
   "metadata": {},
   "source": [
    "## 1. Bayesian Networks/Conditional Probability"
   ]
  },
  {
   "cell_type": "markdown",
   "metadata": {},
   "source": [
    "Consider three binary variables $a, b, c \\in \\{0, 1\\}$ having the joint distribution given by  "
   ]
  },
  {
   "cell_type": "code",
   "execution_count": 2,
   "metadata": {},
   "outputs": [
    {
     "name": "stdout",
     "output_type": "stream",
     "text": [
      "[[[0.192 0.144]\n",
      "  [0.048 0.216]]\n",
      "\n",
      " [[0.192 0.064]\n",
      "  [0.048 0.096]]]\n",
      " \n",
      "[[0.384 0.208]\n",
      " [0.096 0.312]]\n"
     ]
    }
   ],
   "source": [
    "import numpy as np\n",
    "#        | a | b | c | P(a,b,c)\n",
    "P_table = (\n",
    "np.array([[0,  0,  0,  0.192 ],\n",
    "          [0,  0,  1,  0.144 ],\n",
    "          [0,  1,  0,  0.048 ],\n",
    "          [0,  1,  1,  0.216 ],\n",
    "          [1,  0,  0,  0.192 ],\n",
    "          [1,  0,  1,  0.064 ],\n",
    "          [1,  1,  0,  0.048 ],\n",
    "          [1,  1,  1,  0.096 ]]))\n",
    "\n",
    "# Convert P_table (which is a probability table) to a probability array, which \n",
    "# is much more computationally sensible for a discrete valued distribution\n",
    "add = 0\n",
    "P_abc = np.zeros((2,2,2))\n",
    "for entry in P_table:\n",
    "    a = int(entry[0])\n",
    "    b = int(entry[1])\n",
    "    c = int(entry[2])\n",
    "    P = entry[3]\n",
    "    P_abc[a,b,c] = P\n",
    "    #print (P)\n",
    "    #add += P\n",
    "    #print (add)\n",
    "    \n",
    "#print (P_table)\n",
    "\n",
    "print (P_abc)\n",
    "print (' ')\n",
    "print (np.sum(P_abc,axis=0, keepdims=False))"
   ]
  },
  {
   "cell_type": "markdown",
   "metadata": {},
   "source": [
    "Note that you may want to use the following functions to help you in the following problem:"
   ]
  },
  {
   "cell_type": "code",
   "execution_count": 3,
   "metadata": {},
   "outputs": [],
   "source": [
    "def marginalize(P,variables_to_marginalize=(),keepdims=True):\n",
    "    \"\"\" Marginalize a probability table, i.e. compute P(a,b) = sum_c P(a,b,c) \n",
    "    \n",
    "        Arguments: \n",
    "        \n",
    "        P (array) -> a probability array in which the dimensions correspond to random variables,\n",
    "                     the indices to variable values, and the entries to probabilities\n",
    "        variables_to_marginalize (tuple) -> a list of integers containing the \n",
    "                                    variable numbers to marginalize over\n",
    "        keepdims (boolean) -> Marginalization reduces the dimensionality of the distribution.  keepdims=False\n",
    "                       removes that dimension from the array indexing scheme.  For example P(a,b,c) has\n",
    "                       an array that is 2x2x2.  If we marginalize over variable/index 1 (aka b), then the \n",
    "                       resulting array P(a,c) is 2x2 if keepdims=False (which may change the index of a \n",
    "                       given variable.  For example, after marginalizing, variable/index 1 is now c).  \n",
    "                       Conversely, the array becomes 2x1x2 if keepdims=True.\n",
    "    \n",
    "    \"\"\"\n",
    "    # Sum over the axes given in variables_to_marginalize\n",
    "    return np.sum(P,axis=variables_to_marginalize,keepdims=keepdims)\n",
    "\n",
    "def condition(P,variables_to_condition=()):\n",
    "    \"\"\" Condition a probability table, i.e. compute P(a|c) = P(a,c)/P(c) \n",
    "    \n",
    "        Arguments: \n",
    "        \n",
    "        P (array) -> a probability array in which the dimensions correspond to random variables,\n",
    "                     the indices to variable values, and the entries to probabilities\n",
    "        variables_to_condition (tuple) -> a list of integers containing the variables to condition on\n",
    "        \n",
    "        NOTE: This function always returns an array that is the same size as the input.  However, this array\n",
    "        no longer sums to one as does an unconditioned joint distribution.  Instead, it sums to one only given\n",
    "        a particular value of the conditioned variable/index.  For example:\n",
    "        \n",
    "        P_abc.sum()==1 -> True\n",
    "        P_ab_given_c = condition(P_abc,variables_to_condition=(2,))\n",
    "        P_ab_given_c.sum()==1 -> False\n",
    "        P_ab_given_c[:,:,0].sum()==1 -> True\n",
    "        P_ab_given_c[:,:,1].sum()==1 -> True\n",
    "   \n",
    "    \"\"\"\n",
    "    # find the variables to marginalize over to get the marginal distribuion of the\n",
    "    # variables that we wish to condition on\n",
    "    v_to_m = list(range(P.ndim))\n",
    "    for v in variables_to_condition:\n",
    "        v_to_m.remove(v)\n",
    "    # Compute the conditional by dividing the input by the output\n",
    "    return P/marginalize(P,variables_to_marginalize=tuple(v_to_m),keepdims=False)\n",
    "    \n",
    "P_a = marginalize(P_abc, variables_to_marginalize=(1,2))\n",
    "P_ac = marginalize(P_abc, variables_to_marginalize=(1,))\n",
    "P_bc = marginalize(P_abc, variables_to_marginalize=(0,))\n",
    "\n",
    "#keepdims=True\n",
    "P_c_given_a  = condition(P_ac, variables_to_condition=(0,))\n",
    "P_b_given_c  = condition(P_bc, variables_to_condition=(2,))\n",
    "\n",
    "#keepdims=False\n",
    "#P_c_given_a  = condition(P_ac, variables_to_condition=(0,))\n",
    "#P_b_given_c  = condition(P_bc, variables_to_condition=(1,))\n"
   ]
  },
  {
   "cell_type": "markdown",
   "metadata": {},
   "source": [
    "### Joint distribution equivalency (20 pts)\n",
    "Show by direct evaluation that $P(a,b,c) = P(a)P(c|a)P(b|c)$ for all values of $a$,$b$, and $c$."
   ]
  },
  {
   "cell_type": "code",
   "execution_count": 4,
   "metadata": {},
   "outputs": [
    {
     "name": "stdout",
     "output_type": "stream",
     "text": [
      "If my margilizaiton and conditional operations did as I intended and P(a,b,c) = P(a)P(c|a)P(b|c) The resulting array when I multiply (P_a * P_c_given_a * P_b_given_c) should be the same as the last column of the P_Table\n",
      "\n",
      "The original multidimensional P array: \n",
      "[[[0.192 0.144]\n",
      "  [0.048 0.216]]\n",
      "\n",
      " [[0.192 0.064]\n",
      "  [0.048 0.096]]]\n",
      "\n",
      "The array from multiplying (P_a * P_c_given_a * P_b_given_c):\n",
      "[[[0.192 0.216]\n",
      "  [0.048 0.324]]\n",
      "\n",
      " [[0.128 0.064]\n",
      "  [0.032 0.096]]]\n"
     ]
    }
   ],
   "source": [
    "print ('If my margilizaiton and conditional operations did as I intended and P(a,b,c) = P(a)P(c|a)P(b|c) \\\n",
    "The resulting array when I multiply (P_a * P_c_given_a * P_b_given_c) should be the same as the last column \\\n",
    "of the P_Table')\n",
    "print ()\n",
    "print ('The original multidimensional P array: ')\n",
    "print (P_abc)\n",
    "\n",
    "print ()\n",
    "print ('The array from multiplying (P_a * P_c_given_a * P_b_given_c):')\n",
    "print (P_a * P_c_given_a * P_b_given_c)\n",
    "\n",
    "#print ()\n",
    "#print (P_a, P_c_given_a, P_b_given_c)"
   ]
  },
  {
   "cell_type": "markdown",
   "metadata": {},
   "source": [
    "### Graph Visualization (10 pts)\n",
    "\n",
    "Visualize the corresponding directed graph, either using graph software like [networkx](https://networkx.github.io/) or drawing it by hand."
   ]
  },
  {
   "cell_type": "code",
   "execution_count": 5,
   "metadata": {},
   "outputs": [
    {
     "data": {
      "text/plain": [
       "<Figure size 640x480 with 1 Axes>"
      ]
     },
     "metadata": {},
     "output_type": "display_data"
    },
    {
     "name": "stdout",
     "output_type": "stream",
     "text": [
      "This graph shows the dependency of C on A and B on C\n"
     ]
    }
   ],
   "source": [
    "import matplotlib.pyplot as plt\n",
    "import networkx as nx\n",
    "\n",
    "G = nx.DiGraph()\n",
    "rvs = ['A','B','C']\n",
    "\n",
    "G.add_nodes_from(rvs)\n",
    "G.add_edges_from([('A', 'C'),('C','B')], weight=2)\n",
    "nx.draw_networkx(G, arrows=True)\n",
    "\n",
    "plt.show()\n",
    "print ('This graph shows the dependency of C on A and B on C')\n"
   ]
  },
  {
   "cell_type": "markdown",
   "metadata": {},
   "source": [
    "### A Trick Question in Graphs (\\*) (10 pts)\n",
    "Plot the graph associated with\n",
    "$$\n",
    "P(A,B,C,D,E) = P(A)P(C)P(B|A,C)P(D|C)P(E|D),\n",
    "$$\n",
    "where $A,B,C,D,E \\in \\{0,1\\}$ with conditional probability tables\n",
    "\\begin{align}\n",
    "P(A=1) &= 0.3 \\nonumber \\\\\n",
    "P(C=1) &= 0.7 \\nonumber \\\\\n",
    "P(B=1|A,C) &= \\begin{cases} 0.3\\,\\mathrm{if}\\,A=0,C=0\\\\\n",
    "                          0.7\\,\\mathrm{if}\\,A=1,C=0\\\\\n",
    "                          0.1\\,\\mathrm{if}\\,A=0,C=1\\\\\n",
    "                          0.9\\,\\mathrm{if}\\,A=1,C=1 \\end{cases} \\nonumber \\\\\n",
    "P(D=1|C) &= \\begin{cases}   0.4\\,\\mathrm{if}\\,C=0\\\\\n",
    "                          0.2\\,\\mathrm{if}\\,C=1 \\end{cases} \\nonumber \\\\\n",
    "P(E=1|D) &= \\begin{cases}   0.1\\,\\mathrm{if}\\,D=0\\\\\n",
    "                          0.1\\,\\mathrm{if}\\,D=1 \\end{cases}. \\nonumber\n",
    "\\end{align}\n",
    "Compute the probability $P(A=1|E=1,C=1)$.  Be sure to think carefully about conditional independence before pulling out your calculator."
   ]
  },
  {
   "cell_type": "code",
   "execution_count": 6,
   "metadata": {},
   "outputs": [
    {
     "data": {
      "image/png": "[encoded data removed]",
      "text/plain": [
       "<Figure size 432x288 with 1 Axes>"
      ]
     },
     "metadata": {},
     "output_type": "display_data"
    },
    {
     "name": "stdout",
     "output_type": "stream",
     "text": [
      "This dependecy graph shows A and C are both independent\n",
      "the above graph is illustraing  --->  P(A)P(C)P(B|A,C)P(D|C)P(E|D) this dependency\n"
     ]
    }
   ],
   "source": [
    "\n",
    "import matplotlib.pyplot as plt\n",
    "import networkx as nx\n",
    "\n",
    "G = nx.DiGraph()\n",
    "rvs = ['A','B','C','D','E']\n",
    "\n",
    "G.add_nodes_from(rvs)\n",
    "G.add_edges_from([('C','D'),('D','E'),('C','B'),('A','B')], weight=.1)\n",
    "nx.draw_networkx(G, arrows=True)\n",
    "\n",
    "\n",
    "plt.show()\n",
    "print ('This dependecy graph shows A and C are both independent')\n",
    "print ('the above graph is illustraing  --->  P(A)P(C)P(B|A,C)P(D|C)P(E|D) this dependency')"
   ]
  },
  {
   "cell_type": "markdown",
   "metadata": {},
   "source": [
    "### Answer:\n",
    "The event A is not dependent on any other events  $ \\dot{.\\hspace{.015in}.}\\hspace{.1in}$   ...  \n",
    "$P(A=1|E=1,C=1)=P(A=1) = 0.3$\n",
    "\n",
    "\n",
    "\n"
   ]
  },
  {
   "cell_type": "markdown",
   "metadata": {},
   "source": [
    "## 2.Gene Sequence Clustering"
   ]
  },
  {
   "cell_type": "markdown",
   "metadata": {},
   "source": [
    "### 2a. Training a Markov model (40 pts)\n",
    "Load the file genes\\_training.p, which is available in this homework archive.  genes\\_training.p contains 2000 sequences, with each sequence $\\mathbf{s}$ consisting of 20 nucleobases $s_i \\in \\mathrm{Nu},\\; \\mathrm{Nu} = \\{A,T,G,C\\}$.  Each of these sequences is generated from one of two separate Markov processes.  The label (aka class) of the process that generated the sequence is given in the dataset. \n",
    "\n",
    "Learn the Markov model for each class given the training data.  **To do this, for each class compute the prior probability $\\mathbf{\\pi}_c$ of each nucleobase (the relative frequency of each nucleobase for each class, a vector of length 4) and the matrix of transition probabilities** \n",
    "$$\n",
    "\\mathcal{A}_{c,kj} = P(s_{i+1}=\\mathrm{Nu}_j|s_{i}=\\mathrm{Nu}_k),\n",
    "$$ \n",
    "which is a 4 by 4 matrix.  As a quick sanity check, each row of $\\mathcal{A}_c$ should sum to one.  **Using these priors and transition matrices, write a function that generates a new sequence given the class**, i.e. simulates a data point. "
   ]
  },
  {
   "cell_type": "code",
   "execution_count": 2,
   "metadata": {},
   "outputs": [
    {
     "name": "stdout",
     "output_type": "stream",
     "text": [
      "All columns of class 0 transition matrix added to one.\n",
      "All columns of class 1 transition matrix added to one.\n",
      "[[0.14585319 0.04671115 0.34429616 0.4631395 ]\n",
      " [0.24204486 0.23213354 0.40114763 0.12467397]\n",
      " [0.67282249 0.18467475 0.06174201 0.08076075]\n",
      " [0.35344226 0.0474794  0.04510543 0.55397291]]\n"
     ]
    }
   ],
   "source": [
    "import pickle\n",
    "import numpy as np\n",
    "\n",
    "# Define some useful constants\n",
    "N_nucleobases = 4\n",
    "N_classes = 2\n",
    "nucleobases = ['A','T','G','C']\n",
    "\n",
    "# Load the training data using pickle\n",
    "sequences,labels = pickle.load(open('genes_training.p','rb'))\n",
    "\n",
    "# Initialize the class priors and transition matrices\n",
    "pi_0 = np.zeros((N_nucleobases))\n",
    "pi_1 = np.zeros((N_nucleobases))\n",
    "\n",
    "A_0 = np.zeros((N_nucleobases,N_nucleobases))\n",
    "A_1 = np.zeros((N_nucleobases,N_nucleobases))\n",
    "# initialize count to help aid in debugging\n",
    "count0 =0\n",
    "count1 =0\n",
    "\n",
    "##### Train prior #####\n",
    "\n",
    "# Loop over all of the sequences and labels\n",
    "for s,l in zip(sequences,labels):\n",
    "    sequence_length = len(s)\n",
    "    #print (l)\n",
    "    for p in range(sequence_length):\n",
    "        if l == 0:\n",
    "            pi_0[0] += s[p].count('A')\n",
    "            pi_0[1] += s[p].count('T')\n",
    "            pi_0[2] += s[p].count('G')\n",
    "            pi_0[3] += s[p].count('C')\n",
    "            count0 +=1\n",
    "        if l == 1:\n",
    "            pi_1[0] += s[p].count('A')\n",
    "            pi_1[1] += s[p].count('T')\n",
    "            pi_1[2] += s[p].count('G')\n",
    "            pi_1[3] += s[p].count('C')\n",
    "            count1 += 1\n",
    "        #! s is a length 20 sequence of nucleobases.  For all s, count the number of times a given nucleobase \n",
    "        #!appears and record this information in the appropriate class prior (pi_0 or pi_1)\n",
    "        pass\n",
    "  \n",
    "\n",
    " # Convert from counts to probabilities by normalizing\n",
    "pi_0/=pi_0.sum()\n",
    "pi_1/=pi_1.sum()\n",
    "\n",
    "\n",
    "\n",
    "##### Train transition matrix #####\n",
    "for s,l in zip(sequences,labels):\n",
    "    #print (s,l)\n",
    "    sequence_length = len(s)\n",
    "    for p in range(sequence_length-1): # transitions from p to p+1 therefore must stop p one before it gets to end.\n",
    "        if l == 0:\n",
    "            if s[p] == 'A': \n",
    "                if s[p+1] == 'A':\n",
    "                    A_0[0,0] +=1\n",
    "                if s[p+1] == 'T':\n",
    "                    A_0[1,0] +=1\n",
    "                if s[p+1] == 'G':\n",
    "                    A_0[2,0] +=1\n",
    "                if s[p+1] == 'C':\n",
    "                    A_0[3,0] +=1\n",
    "            elif s[p] == 'T':\n",
    "                if s[p+1] == 'A':\n",
    "                    A_0[0,1] +=1\n",
    "                if s[p+1] == 'T':\n",
    "                    A_0[1,1] +=1\n",
    "                if s[p+1] == 'G':\n",
    "                    A_0[2,1] +=1\n",
    "                if s[p+1] == 'C':\n",
    "                    A_0[3,1] +=1\n",
    "            elif s[p] == 'G':\n",
    "                if s[p+1] == 'A':\n",
    "                    A_0[0,2] +=1\n",
    "                if s[p+1] == 'T':\n",
    "                    A_0[1,2] +=1 \n",
    "                if s[p+1] == 'G':\n",
    "                    A_0[2,2] +=1\n",
    "                if s[p+1] == 'C':\n",
    "                    A_0[3,2] +=1\n",
    "            elif s[p] == 'C':\n",
    "                if s[p+1] == 'A':\n",
    "                    A_0[0,3] +=1\n",
    "                if s[p+1] == 'T':\n",
    "                    A_0[1,3] +=1\n",
    "                if s[p+1] == 'G':\n",
    "                    A_0[2,3] +=1\n",
    "                if s[p+1] == 'C':\n",
    "                    A_0[3,3] +=1\n",
    "        if l == 1:\n",
    "            if s[p] == 'A': \n",
    "                if s[p+1] == 'A':\n",
    "                    A_1[0,0] +=1\n",
    "                if s[p+1] == 'T':\n",
    "                    A_1[1,0] +=1\n",
    "                if s[p+1] == 'G':\n",
    "                    A_1[2,0] +=1\n",
    "                if s[p+1] == 'C':\n",
    "                    A_1[3,0] +=1\n",
    "            elif s[p] == 'T':\n",
    "                if s[p+1] == 'A':\n",
    "                    A_1[0,1] +=1\n",
    "                if s[p+1] == 'T':\n",
    "                    A_1[1,1] +=1\n",
    "                if s[p+1] == 'G':\n",
    "                    A_1[2,1] +=1\n",
    "                if s[p+1] == 'C':\n",
    "                    A_1[3,1] +=1\n",
    "            elif s[p] == 'G':\n",
    "                if s[p+1] == 'A':\n",
    "                    A_1[0,2] +=1\n",
    "                if s[p+1] == 'T':\n",
    "                    A_1[1,2] +=1 \n",
    "                if s[p+1] == 'G':\n",
    "                    A_1[2,2] +=1\n",
    "                if s[p+1] == 'C':\n",
    "                    A_1[3,2] +=1\n",
    "            elif s[p] == 'C':\n",
    "                if s[p+1] == 'A':\n",
    "                    A_1[0,3] +=1\n",
    "                if s[p+1] == 'T':\n",
    "                    A_1[1,3] +=1\n",
    "                if s[p+1] == 'G':\n",
    "                    A_1[2,3] +=1\n",
    "                if s[p+1] == 'C':\n",
    "                    A_1[3,3] +=1    \n",
    "        #! s is a length 20 sequence of nucleoboases, for all s, count the number of times that a nucleobase \n",
    "        #! transitions to another nucleobase and record this information in the appropriate transition matrix (A_0 or A_1)\n",
    "        pass\n",
    "    \n",
    "# Convert from counts to probabilities by row normalization\n",
    "A_0/=A_0.sum(axis=0)[np.newaxis,:] # had to switch axis from 1 to 0 and np.newaxis to row because of how I\n",
    "A_1/=A_1.sum(axis=0)[np.newaxis,:] # defined my transition matrix above. A--> T not necessarily == T --> A\n",
    "\n",
    "#print (A_0)\n",
    "#print (A_1)\n",
    "#print(A_0.sum(axis=0))#[np.newaxis,:])\n",
    "#print(A_1.sum(axis=0)[:,np.newaxis])\n",
    "#print (1211+1704+2284+141)\n",
    "#print(1211+1023+2652+459)\n",
    "#print (1023+895+1325+1789)\n",
    "count = 0\n",
    "for i in range(4):   #check to see if each column adds up to one.\n",
    "    if (np.sum(A_0[:,i])) == 1:\n",
    "        count += 1  \n",
    "    if i == 3 and count == 4:\n",
    "        print ('All columns of class 0 transition matrix added to one.')\n",
    "        \n",
    "count = 0\n",
    "for i in range(4):   #check to see if each column adds up to one.\n",
    "    if (np.sum(A_1[:,i])) >.999999 and (np.sum(A_1[:,i])) < 1.000001:\n",
    "        count += 1 \n",
    "        \n",
    "    if i == 3 and count == 4:\n",
    "        print ('All columns of class 1 transition matrix added to one.')\n",
    "        \n",
    "print (A_1.T)"
   ]
  },
  {
   "cell_type": "markdown",
   "metadata": {},
   "source": [
    "###### Notes\n",
    "    As a quick sanity check columns in my transition matrix (rows in how I think Doug formulated the problem & therefore my A.T should equal doug's A) should sum to one (adding values in the same column together, 'across all rows'). Similarly the prior probability arrays should also sum to one. "
   ]
  },
  {
   "cell_type": "code",
   "execution_count": 9,
   "metadata": {},
   "outputs": [
    {
     "name": "stdout",
     "output_type": "stream",
     "text": [
      "The prior probabilities P(A),P(T),P(G),P(C) used to generate the first nucleobase:\n",
      "priors in label 0:[0.28145 0.26535 0.31195 0.14125]\n",
      "priors in label 1:[0.332  0.1008 0.1901 0.3771]\n",
      "\n",
      "\n",
      "Transition Matrix for class 0: Columns and rows A, T, G, C, respectively\n",
      "[[0.22677903 0.20329889 0.44653982 0.17069543]\n",
      " [0.31910112 0.17786169 0.30527025 0.24581629]\n",
      " [0.42771536 0.26331479 0.24381209 0.31349944]\n",
      " [0.02640449 0.35552464 0.00437784 0.26998884]]\n",
      "\n",
      "Transition Matrix for class 1: A,T,G,C\n",
      "[[0.14585319 0.24204486 0.67282249 0.35344226]\n",
      " [0.04671115 0.23213354 0.18467475 0.0474794 ]\n",
      " [0.34429616 0.40114763 0.06174201 0.04510543]\n",
      " [0.4631395  0.12467397 0.08076075 0.55397291]]\n",
      "\n",
      "First order Markov Model Generated Sequences from prior and transition probabilites:\n",
      "label 0:\n",
      "['A', 'T', 'G', 'T', 'G', 'T', 'C', 'C', 'A', 'T', 'A', 'G', 'A', 'G', 'T', 'T', 'A', 'T', 'T', 'T']\n",
      "label 1:\n",
      "['T', 'G', 'A', 'C', 'A', 'C', 'C', 'A', 'A', 'T', 'A', 'G', 'A', 'G', 'A', 'G', 'A', 'C', 'C', 'C']\n"
     ]
    }
   ],
   "source": [
    "#########################################\n",
    "##### Generate a synthetic sequence #####\n",
    "########################################\n",
    "\n",
    "\n",
    "def generate_new_sequence(A,pi,n=20):\n",
    "    \"\"\"  \n",
    "    Arguments:\n",
    "    A -> Nucleobase transition matrix\n",
    "    pi -> Prior\n",
    "    n -> length of sequence to generate\n",
    "    \"\"\"\n",
    "    \n",
    "    for i in range(n):\n",
    "    # Draw from the prior for the first nucleobase\n",
    "        if i == 0:\n",
    "            s=[]\n",
    "            s.append(np.random.choice(nucleobases,p=pi))\n",
    "        else:    \n",
    "            if s[i-1] == 'A':\n",
    "                #print ('A')\n",
    "                s.append(np.random.choice(nucleobases,p=A[:,0]))\n",
    "            if s[i-1] == 'T':\n",
    "                #print ('T')\n",
    "                s.append(np.random.choice(nucleobases,p=A[:,1]))\n",
    "            if s[i-1] == 'G':\n",
    "                #print ('G')\n",
    "                s.append(np.random.choice(nucleobases,p=A[:,2]))\n",
    "            if s[i-1] == 'C':\n",
    "                #print ('C')\n",
    "                s.append(np.random.choice(nucleobases,p=A[:,3]))\n",
    "    #! Write the code that uses the transition matrix to produce a length n sample\n",
    "    return s\n",
    "\n",
    "seq_0=generate_new_sequence(A_0,pi_0)\n",
    "seq_1=generate_new_sequence(A_1,pi_1)\n",
    "\n",
    "\n",
    "\n",
    "print ('The prior probabilities P(A),P(T),P(G),P(C) used to generate the first nucleobase:')\n",
    "print ('priors in label 0:' + str(pi_0))\n",
    "print ('priors in label 1:' + str(pi_1))\n",
    "print ()\n",
    "print()\n",
    "print ('Transition Matrix for class 0: Columns and rows A, T, G, C, respectively')\n",
    "print (A_0)\n",
    "print ()\n",
    "print ('Transition Matrix for class 1: A,T,G,C')\n",
    "print (A_1)\n",
    "print()\n",
    "print ('First order Markov Model Generated Sequences from prior and transition probabilites:')\n",
    "print ('label 0:\\n' + str(seq_0))\n",
    "print ('label 1:\\n' +str(seq_1))\n"
   ]
  },
  {
   "cell_type": "markdown",
   "metadata": {},
   "source": [
    "### 2b. A Markov classifier (*) (20 pts)\n"
   ]
  },
  {
   "cell_type": "markdown",
   "metadata": {},
   "source": [
    "Having the prior and transition probabilities gives you the ability to evaluate the likelihood of a sequence for a given class as:\n",
    "$$\n",
    "P(\\mathbf{s}) = P(s_1|\\mathbf{\\pi}_c) \\prod_{i=1}^{n-1} P(s_{i+1}|s_{i},\\mathcal{A}_c),\n",
    "$$\n",
    "where $\\mathbf{\\pi}_c$ is the class-conditioned prior probability, and $\\mathcal{A}_c$ is the class-conditioned transition matrix.  Comparing the computed likelihood for a given sequence between different classes forms the basis of a classifier in a very similar manner to naive Bayes.  The difference this time is that now each random variable depends on the one before it in the sequence, whereas in naive Bayes we assumed that all the random variables were independent.    \n",
    "\n",
    "Load the file genes\\_test.p, which is similar to genes\\_training.p.  **For each sequence, compute the likelihood for both classes and assign a label.  Compare this predicted label to the known one, and report the test set accuracy**.  As a point of comparison, my implementation achieved 98.7% accuracy.  "
   ]
  },
  {
   "cell_type": "code",
   "execution_count": 54,
   "metadata": {
    "scrolled": true
   },
   "outputs": [
    {
     "name": "stdout",
     "output_type": "stream",
     "text": [
      "The percent accuracy of predicitng which class/label the test sequences came from is: \n",
      "98.0%\n"
     ]
    }
   ],
   "source": [
    "################################################################\n",
    "###################### MARKOV CLASSIFIER #######################\n",
    "################################################################\n",
    " \n",
    "# LOAD DATA\n",
    "sequences_test,labels_test = pickle.load(open('genes_test.p','rb'))\n",
    "\n",
    "\n",
    "def probability_of_sequence_conditioned_onlabel(A,pi):\n",
    "    \"\"\"function that takes a list of sequences and computes probability of each individual sequence (s) \n",
    "       by multiplying the prior|class by each transition probability, e.g. A-->G transition probability \n",
    "       times G-->T probability etc.\"\"\"\n",
    "     # initialize an empty array, making sure data typees are float64.\n",
    "    P_array = np.array([],dtype = np.float64)\n",
    "    count = 0\n",
    "    for s in sequences_test:\n",
    "        for i in range(len(s)):\n",
    "        \n",
    "            if i == 0:  # calc priors for first nucleotide in sequence\n",
    "                P = 1 \n",
    "                if s[0] == 'A':\n",
    "                    P *= pi[0]\n",
    "                elif s[0] == 'T':\n",
    "                    P *= pi[1]\n",
    "                elif s[0] == 'G':\n",
    "                    P *= pi[2]\n",
    "                elif s[0] == 'C':\n",
    "                    P *= pi[3]\n",
    "                #print(len(s))\n",
    "                #print (P)\n",
    "            \n",
    "            else:\n",
    "                #print (i)\n",
    "                if s[i-1]== 'A' and s[i] == 'A':\n",
    "                    P *= A[0,0]\n",
    "                    #print (P)\n",
    "                if s[i-1]== 'A' and s[i] == 'T':\n",
    "                    P *= A[1,0]\n",
    "                if s[i-1]== 'A' and s[i] == 'G':\n",
    "                    P *= A[2,0]\n",
    "                if s[i-1]== 'A' and s[i] == 'C':\n",
    "                    P *= A[3,0]\n",
    "                if s[i-1]== 'T':\n",
    "                    if s[i]== 'A':\n",
    "                        P *= A[0,1]\n",
    "                    if s[i]== 'T':\n",
    "                        P *= A[1,1]\n",
    "                    if s[i]== 'G':\n",
    "                        P *= A[2,1]\n",
    "                    if s[i]== 'C':\n",
    "                        P *= A[3,1]   \n",
    "                if s[i-1]== 'G':\n",
    "                    if s[i]== 'A':\n",
    "                        P *= A[0,2]\n",
    "                    if s[i]== 'T':\n",
    "                        P *= A[1,2]\n",
    "                    if s[i]== 'G':\n",
    "                        P *= A[2,2]\n",
    "                    if s[i]== 'C':\n",
    "                        P *= A[3,2]\n",
    "                if s[i-1]== 'C':\n",
    "                    if s[i]== 'A':\n",
    "                        P *= A[0,3]\n",
    "                    if s[i]== 'T':\n",
    "                        P *= A[1,3]\n",
    "                    if s[i]== 'G':\n",
    "                        P *= A[2,3]\n",
    "                    if s[i]== 'C':\n",
    "                        P *= A[3,3] \n",
    "                if i == len(s)-1:\n",
    "                    \n",
    "                    P_array=np.append(P_array,P) # append the P scalar for specific sequence onto an array of such values corresponding\n",
    "                    count +=1         # to P of specific sequences with indices corresponding to indicies of s's in seuqence_test\n",
    "                    \n",
    "                                         \n",
    "    return P_array\n",
    "\n",
    "#print (P_0.dtype())\n",
    "#print (len(sequences_test))\n",
    "#print (count)\n",
    "#print (P)\n",
    "Sequence_Probability_0 = probability_of_sequence_conditioned_onlabel(A_0,pi_0)\n",
    "#print (Sequence_Probability_0)\n",
    "\n",
    "Sequence_Probability_1 = probability_of_sequence_conditioned_onlabel(A_1,pi_1)\n",
    "#print (Sequence_Probability_1)\n",
    "\n",
    "Ratio_Pgiven0_to_Pgiven1 = Sequence_Probability_0/Sequence_Probability_1\n",
    "#print (Ratio_Pgiven0_to_Pgiven1)\n",
    "\n",
    "# Caclulating Accuracy by dividing the P given 0 by the P given 1 for each sequence. \n",
    "# if larger than 1 that means there was a larger P of label 0 \n",
    "predicted_label=[]\n",
    "for i in range(len(Ratio_Pgiven0_to_Pgiven1)):\n",
    "    if Ratio_Pgiven0_to_Pgiven1[i] >= 10:\n",
    "        predicted_label.append(0)\n",
    "    else:\n",
    "        predicted_label.append(1)\n",
    "\n",
    "count = 0 \n",
    "for i in range(len(predicted_label)):\n",
    "    if predicted_label[i] == labels_test[i]:\n",
    "        count += 1\n",
    "    \n",
    "\n",
    "Accuracy = float(count)/(float(len(predicted_label)))        \n",
    "\n",
    "print ('The percent accuracy of predicitng which class/label the test sequences came from is: \\n' + str(100*Accuracy) + '%')\n",
    "\n",
    "\n",
    "\n"
   ]
  },
  {
   "cell_type": "code",
   "execution_count": 59,
   "metadata": {},
   "outputs": [
    {
     "name": "stdout",
     "output_type": "stream",
     "text": [
      "Markov Model accuracy: \n",
      " 0.986\n"
     ]
    }
   ],
   "source": [
    "####### Diff method of predicting label ########\n",
    "\n",
    "Sequence_Probability_0 = probability_of_sequence_conditioned_onlabel(A_0,pi_0)\n",
    "#print (Sequence_Probability_0)\n",
    "Sequence_Probability_1 = probability_of_sequence_conditioned_onlabel(A_1,pi_1)\n",
    "#print (Sequence_Probability_1)\n",
    "\n",
    "predicted_labels = []\n",
    "for i in range(len(Sequence_Probability_0)):\n",
    "    if Sequence_Probability_0[i]>Sequence_Probability_1[i]:\n",
    "        predicted_labels.append(0)\n",
    "    else:\n",
    "        predicted_labels.append(1)\n",
    "\n",
    "count = 0\n",
    "for i in range(len(labels_test)):\n",
    "    if int(labels_test[i]) == int(predicted_labels[i]):\n",
    "        count += 1\n",
    "\n",
    "mm_accuracy = count/len(labels_test)        \n",
    "print ( 'Markov Model accuracy: \\n', mm_accuracy)"
   ]
  },
  {
   "cell_type": "code",
   "execution_count": 57,
   "metadata": {},
   "outputs": [
    {
     "name": "stdout",
     "output_type": "stream",
     "text": [
      "Percent accuracy: 98.6\n",
      "Using the log ratio gave me the same accuracy. As it should, since A.) the probabilities arent small enoughto cause truncation and b.) because I didnt take the log throughout the calculations but only at the end.\n"
     ]
    }
   ],
   "source": [
    "## Calculating accuracy via the log ratio method:\n",
    "\n",
    "log_ratio_P = np.log(Sequence_Probability_0/Sequence_Probability_1)\n",
    "    \n",
    "\n",
    "predicted_label =[]\n",
    "for i in range(len(Sequence_Probability_0)):\n",
    "    if log_ratio_P[i] > 0:\n",
    "        predicted_label.append(0)\n",
    "    else:\n",
    "        predicted_label.append(1)\n",
    "count = 0\n",
    "for i in range(len(predicted_label)):\n",
    "    if predicted_label[i]==labels_test[i]:\n",
    "        count +=1\n",
    "    #else:\n",
    "        #print (i)  #figuring out where I mispredicted. \n",
    "        \n",
    "\n",
    "print ('Percent accuracy: ' + str(100*count/len(predicted_label)))\n",
    "print ('Using the log ratio gave me the same accuracy. As it should, since A.) the probabilities arent small enough\\\n",
    "to cause truncation and b.) because I didnt take the log throughout the calculations but only at the end.')\n",
    "            "
   ]
  },
  {
   "cell_type": "markdown",
   "metadata": {},
   "source": [
    "###### Notes\n",
    "I achieved a high accuracy. However, a uniform prior would get a near a 50% classification accuracy since there are only two labels. The key ingredient here is the transition probailities. And if a transition is 2 times as likely in class 0 vs class 1 and the next transition is 2 times as likely in class 0 vs class 1, after multiplying them we have class 0 being 4 times as likely. In this way small differences in transition probabilities can multiply up and become relatively large differnces after a sufficient number of transitions has been analyzed. Of course, this is dependent on there being discernible differences between the transition probabilities of the differing classes and having enough data to detect these differences, both with training data and test data. \n",
    "\n",
    "Next i compare this markov model to a simple naive bayes to put my classification accuracy in context. \n"
   ]
  },
  {
   "cell_type": "code",
   "execution_count": 61,
   "metadata": {},
   "outputs": [
    {
     "name": "stdout",
     "output_type": "stream",
     "text": [
      "Naive Bayes accuracy: 89.9%\n",
      "Markov Model accuracy:  98.6 %\n"
     ]
    }
   ],
   "source": [
    "#####################################################\n",
    "######## Naive Bayes for Model Comparison ###########\n",
    "#####################################################\n",
    "\n",
    "# LOAD DATA#\n",
    "sequences_test,labels_test = pickle.load(open('genes_test.p','rb'))\n",
    "\n",
    "\n",
    "def Naive_Bayes(pi):\n",
    "    \"\"\"function that takes a list of sequences and computes probability of each individual sequence (s) \n",
    "       by multiplying the prior|class by the prior|class of the next element in sequence. Made in order to test how much\n",
    "       better my markov model is compared to a naive bayes approach.\"\"\"\n",
    "     # initialize an empty array, making sure data typees are float64.\n",
    "    P_array = np.array([],dtype = np.float64)\n",
    "    count = 0\n",
    "    for s in sequences_test:\n",
    "        P = 1\n",
    "        for i in range(len(s)):\n",
    "                if s[i] == 'A':\n",
    "                    P *= pi[0]\n",
    "                elif s[i] == 'T':\n",
    "                    P *= pi[1]\n",
    "                elif s[i] == 'G':\n",
    "                    P *= pi[2]\n",
    "                elif s[i] == 'C':\n",
    "                    P *= pi[3]\n",
    "                if i == len(s)-1:\n",
    "                    P_array = np.append(P_array,P)\n",
    "    return P_array\n",
    "\n",
    "NB_P_0 = Naive_Bayes(pi_0)\n",
    "NB_P_1 = Naive_Bayes(pi_1)\n",
    "Ratio_NB_P_0_P_1 = NB_P_0/NB_P_1\n",
    "Naive_Labels = np.array([])\n",
    "\n",
    "for i in range(len(Ratio_NB_P_0_P_1)):\n",
    "    if Ratio_NB_P_0_P_1[i]>1:\n",
    "        Naive_Labels = np.append(Naive_Labels, 0)\n",
    "    else:\n",
    "        Naive_Labels = np.append(Naive_Labels, 1)\n",
    "count = 0    \n",
    "for i in range(len(Naive_Labels)):\n",
    "    if Naive_Labels[i] != labels_test[i]:\n",
    "        count +=1\n",
    "print ('Naive Bayes accuracy: ' + str((len(Naive_Labels)-count)/len(Naive_Labels)*100) + '%')\n",
    "print ('Markov Model accuracy: ', mm_accuracy * 100,'%')\n"
   ]
  },
  {
   "cell_type": "markdown",
   "metadata": {},
   "source": [
    "###### Naive Bayes is much higher than an uniformed prior of ~50% accuracy and the Markov Model is yet again much better than the Naive Bayes. However, one wonders if my markov model is overtrained when evaluated against other potential data sets. "
   ]
  },
  {
   "cell_type": "code",
   "execution_count": null,
   "metadata": {},
   "outputs": [],
   "source": []
  }
 ],
 "metadata": {
  "kernelspec": {
   "display_name": "Python 3",
   "language": "python",
   "name": "python3"
  },
  "language_info": {
   "codemirror_mode": {
    "name": "ipython",
    "version": 3
   },
   "file_extension": ".py",
   "mimetype": "text/x-python",
   "name": "python",
   "nbconvert_exporter": "python",
   "pygments_lexer": "ipython3",
   "version": "3.6.5"
  }
 },
 "nbformat": 4,
 "nbformat_minor": 2
}
